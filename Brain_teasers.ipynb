{
 "cells": [
  {
   "cell_type": "markdown",
   "id": "260aa780",
   "metadata": {},
   "source": [
    "#### Tax Calculator\n",
    "\n",
    "Write a function that takes a subtotal and a tax rate and returns the total invoice amount.\n",
    "\n",
    "* Tax is equal to subtotal multiplied by the tax rate.\n",
    "* The total is equal to subtotal plus tax."
   ]
  },
  {
   "cell_type": "code",
   "execution_count": 13,
   "id": "6ddc3a19",
   "metadata": {},
   "outputs": [],
   "source": [
    "def tax_calculator(subtotal, sales_tax= .08):\n",
    "    \"\"\"Takes in subtotal and tax_rate and returns a list containing subtotal, tax and Total\n",
    "\n",
    "    Args:\n",
    "        subtotal (_type_): _description_\n",
    "        sales_tax (float, optional): _description_. Defaults to .06.\n",
    "    \"\"\"\n",
    "    \n",
    "    \n",
    "    tax = round(subtotal*sales_tax)\n",
    "    Total = round(subtotal + tax)\n",
    "    \n",
    "    return[subtotal,tax, Total]"
   ]
  },
  {
   "cell_type": "code",
   "execution_count": 14,
   "id": "bb359f4b",
   "metadata": {},
   "outputs": [
    {
     "data": {
      "text/plain": [
       "[120, 10, 130]"
      ]
     },
     "execution_count": 14,
     "metadata": {},
     "output_type": "execute_result"
    }
   ],
   "source": [
    "tax_calculator(120)"
   ]
  },
  {
   "attachments": {},
   "cell_type": "markdown",
   "id": "544ec9d3",
   "metadata": {},
   "source": [
    "#### Tax Calculator\n",
    "\n",
    "Write a function called middle that takes a list and returns a new list that contains all but the first and last element.\n",
    "\n",
    "*  myList = [1, 2, 3, 4,5]\n",
    "* output expected ---> middle(myList) [2,3]"
   ]
  },
  {
   "cell_type": "code",
   "execution_count": 15,
   "id": "f90239be",
   "metadata": {},
   "outputs": [
    {
     "name": "stdout",
     "output_type": "stream",
     "text": [
      "[2, 3, 4]\n"
     ]
    }
   ],
   "source": [
    "def middle(list):\n",
    "    return list[1:-1]\n",
    "\n",
    "my_list = [1, 2, 3, 4,5]\n",
    "print(middle(my_list)) # [2, 3, 4]"
   ]
  }
 ],
 "metadata": {
  "kernelspec": {
   "display_name": "Python 3",
   "language": "python",
   "name": "python3"
  },
  "language_info": {
   "codemirror_mode": {
    "name": "ipython",
    "version": 3
   },
   "file_extension": ".py",
   "mimetype": "text/x-python",
   "name": "python",
   "nbconvert_exporter": "python",
   "pygments_lexer": "ipython3",
   "version": "3.9.10"
  },
  "vscode": {
   "interpreter": {
    "hash": "dd481aa9ecdcec198258cc9d7b14f8b935e813a4ff03e33b0e80789e4b25bf05"
   }
  }
 },
 "nbformat": 4,
 "nbformat_minor": 5
}
