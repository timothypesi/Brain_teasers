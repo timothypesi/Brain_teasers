{
 "cells": [
  {
   "cell_type": "markdown",
   "id": "260aa780",
   "metadata": {},
   "source": [
    "#### Tax Calculator\n",
    "\n",
    "Write a function that takes a subtotal and a tax rate and returns the total invoice amount.\n",
    "\n",
    "* Tax is equal to subtotal multiplied by the tax rate.\n",
    "* The total is equal to subtotal plus tax."
   ]
  },
  {
   "cell_type": "code",
   "execution_count": 1,
   "id": "6ddc3a19",
   "metadata": {},
   "outputs": [],
   "source": [
    "def tax_calculator(subtotal, sales_tax= .08):\n",
    "    \"\"\"Takes in subtotal and tax_rate and returns a list containing subtotal, tax and Total\n",
    "\n",
    "    Args:\n",
    "        subtotal (_type_): _description_\n",
    "        sales_tax (float, optional): _description_. Defaults to .06.\n",
    "    \"\"\"\n",
    "    \n",
    "    \n",
    "    tax = round(subtotal*sales_tax)\n",
    "    Total = round(subtotal + tax)\n",
    "    \n",
    "    return[subtotal,tax, Total]"
   ]
  },
  {
   "cell_type": "code",
   "execution_count": 2,
   "id": "bb359f4b",
   "metadata": {},
   "outputs": [
    {
     "data": {
      "text/plain": [
       "[120, 10, 130]"
      ]
     },
     "execution_count": 2,
     "metadata": {},
     "output_type": "execute_result"
    }
   ],
   "source": [
    "tax_calculator(120)"
   ]
  },
  {
   "attachments": {},
   "cell_type": "markdown",
   "id": "544ec9d3",
   "metadata": {},
   "source": [
    "#### The Middle Function\n",
    "\n",
    "Write a function called middle that takes a list and returns a new list that contains all but the first and last element.\n",
    "\n",
    "*  myList = [1, 2, 3, 4,5]\n",
    "* output expected ---> middle(myList) [2,3]"
   ]
  },
  {
   "cell_type": "code",
   "execution_count": 3,
   "id": "f90239be",
   "metadata": {},
   "outputs": [
    {
     "name": "stdout",
     "output_type": "stream",
     "text": [
      "[2, 3, 4]\n"
     ]
    }
   ],
   "source": [
    "def middle(list):\n",
    "    return list[1:-1]\n",
    "\n",
    "my_list = [1, 2, 3, 4,5]\n",
    "print(middle(my_list)) # [2, 3, 4]"
   ]
  },
  {
   "attachments": {},
   "cell_type": "markdown",
   "id": "cd4f9be9",
   "metadata": {},
   "source": [
    "#### Profit Maximizer\n",
    "I first check if the input prices is an empty list. If it is, i immediately return 0.\n",
    "\n",
    "Then i use the np.minimum.accumulate() function to compute an array min_prices of the minimum prices seen so far. This array has the same length as prices, and min_prices[i] represents the minimum price seen in the subarray prices[0:i+1].\n",
    "\n",
    "I then compute an array profits of the profits that can be made by selling at each day. This array has the same length as prices, and profits[i] represents the maximum profit that can be made by selling on or after day i.\n",
    "\n",
    "I then compute the maximum value in the profits array using the np.max() function.\n",
    "\n",
    "I then return the maximum profit.\n",
    "\n",
    "This approach is more concise and may be faster for large input arrays, as it avoids the need for a loop."
   ]
  },
  {
   "cell_type": "code",
   "execution_count": 4,
   "id": "4ac5b869",
   "metadata": {},
   "outputs": [
    {
     "data": {
      "text/plain": [
       "5"
      ]
     },
     "execution_count": 4,
     "metadata": {},
     "output_type": "execute_result"
    }
   ],
   "source": [
    "import numpy as np\n",
    "\n",
    "def max_profit(prices):\n",
    "    if not prices:\n",
    "        return 0\n",
    "    \n",
    "    min_prices = np.minimum.accumulate(prices)\n",
    "    max_profit = np.max(prices - min_prices)\n",
    "    \n",
    "    return max_profit\n",
    "\n",
    "prices = [7,1,5,3,6,4]\n",
    "\n",
    "Maximum_Profit = max_profit(prices)\n",
    "Maximum_Profit"
   ]
  }
 ],
 "metadata": {
  "kernelspec": {
   "display_name": "Python 3",
   "language": "python",
   "name": "python3"
  },
  "language_info": {
   "codemirror_mode": {
    "name": "ipython",
    "version": 3
   },
   "file_extension": ".py",
   "mimetype": "text/x-python",
   "name": "python",
   "nbconvert_exporter": "python",
   "pygments_lexer": "ipython3",
   "version": "3.9.7"
  },
  "vscode": {
   "interpreter": {
    "hash": "dd481aa9ecdcec198258cc9d7b14f8b935e813a4ff03e33b0e80789e4b25bf05"
   }
  }
 },
 "nbformat": 4,
 "nbformat_minor": 5
}
